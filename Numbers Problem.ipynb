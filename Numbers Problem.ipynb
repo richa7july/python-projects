{
 "cells": [
  {
   "cell_type": "markdown",
   "metadata": {},
   "source": [
    "# Find PI to nth Digit"
   ]
  },
  {
   "cell_type": "code",
   "execution_count": 42,
   "metadata": {
    "collapsed": false
   },
   "outputs": [
    {
     "name": "stdout",
     "output_type": "stream",
     "text": [
      "Enter a Number:12\n",
      "Please enter value <=11:3\n",
      "Value of pi upto 3 decimal places is : 3.143\n"
     ]
    }
   ],
   "source": [
    "\"\"\"Enter a number and have the program generate PI up to that many decimal places. \n",
    "Keep a limit to how far the program will go.\"\"\"\n",
    "\n",
    "def display_pi(n):\n",
    "    pi = (22.0/7)\n",
    "    square = 10**n                                  #10 square of n.\n",
    "    return int((pi*square)+0.5)*1.0/square             # adding 0.5 for rounding\n",
    "\n",
    "if __name__ == \"__main__\":\n",
    "    n = int(raw_input(\"Enter a Number:\").strip())      #user input\n",
    "    if n > 11:\n",
    "        n = int(raw_input(\"Please enter value <=11:\").strip())\n",
    "    f = display_pi(n)\n",
    "    print \"Value of pi upto %s decimal places is : %s\" %(n,f)"
   ]
  },
  {
   "cell_type": "markdown",
   "metadata": {},
   "source": [
    "# Find e(Euler's Number) to nth Digit"
   ]
  },
  {
   "cell_type": "code",
   "execution_count": 48,
   "metadata": {
    "collapsed": false
   },
   "outputs": [
    {
     "name": "stdout",
     "output_type": "stream",
     "text": [
      "Enter a Number:12\n",
      "Please enter value <=11:5\n",
      "Value of e upto 5 decimal places is : 2.71828\n"
     ]
    }
   ],
   "source": [
    "\"\"\"Just like the previous problem, but with e instead of PI. Enter a number and have the program generate e up to that many decimal places. \n",
    "Keep a limit to how far the program will go.\"\"\"\n",
    "\n",
    "import math\n",
    "def display_e(n):\n",
    "    e = math.exp(1)\n",
    "    square = 10**n                                  #10 square of n.\n",
    "    return int((e*square)+0.5)*1.0/square             # adding 0.5 for rounding\n",
    "\n",
    "if __name__ == \"__main__\":\n",
    "    n = int(raw_input(\"Enter a Number:\").strip())      #user input\n",
    "    if n > 11:\n",
    "        n = int(raw_input(\"Please enter value <=11:\").strip())\n",
    "    f = display_e(n)\n",
    "    print \"Value of e upto %s decimal places is : %s\" %(n,f)\n"
   ]
  },
  {
   "cell_type": "markdown",
   "metadata": {},
   "source": [
    "# Fibonacci Series using Iterators"
   ]
  },
  {
   "cell_type": "code",
   "execution_count": 54,
   "metadata": {
    "collapsed": false
   },
   "outputs": [
    {
     "name": "stdout",
     "output_type": "stream",
     "text": [
      "Enter a Number:20\n",
      "Fibonacci series for 20 numbers is : [1, 1, 2, 3, 5, 8, 13, 21, 34, 55, 89, 144, 233, 377, 610, 987, 1597, 2584, 4181, 6765]\n"
     ]
    }
   ],
   "source": [
    "\"\"\"Enter a number and have the program generate the Fibonacci sequence to that number or to the Nth number.\"\"\"\n",
    "\n",
    "def fib(n):\n",
    "    a = 1\n",
    "    b = 1\n",
    "    \n",
    "    for i in range(n):\n",
    "        yield a                                        # Iterator \n",
    "        a,b = b,a+b\n",
    "\n",
    "if __name__ == \"__main__\":\n",
    "    n = int(raw_input(\"Enter a Number:\").strip())      #user input \n",
    "    l = []\n",
    "    for i in fib(n):\n",
    "        l.append(i)\n",
    "    print \"Fibonacci series for %s numbers is : %s\" %(n,l)\n"
   ]
  },
  {
   "cell_type": "markdown",
   "metadata": {},
   "source": [
    "# Prime Factorization"
   ]
  },
  {
   "cell_type": "code",
   "execution_count": 81,
   "metadata": {
    "collapsed": false,
    "scrolled": true
   },
   "outputs": [
    {
     "name": "stdout",
     "output_type": "stream",
     "text": [
      "Enter a number:45\n",
      "3*3*5\n"
     ]
    }
   ],
   "source": [
    "\"\"\"Have the user enter a number and find all Prime Factors (if there are any) and display them.\"\"\"\n",
    "\n",
    "def factorize(n):\n",
    "    n = int(n)\n",
    "    f = primefactors(n)\n",
    "    if IsPrime(n):\n",
    "        return str(n)\n",
    "    else:\n",
    "        return str(f[0])+\"*\"+factorize(n/f[0])\n",
    "\n",
    "if __name__ == \"__main__\":\n",
    "    n = raw_input(\"Enter a number:\").strip()\n",
    "    \n",
    "    factors = lambda n : [i for i in range(2,n) if n%i == 0]\n",
    "    IsPrime = lambda n : len(factors(n))==0\n",
    "    primefactors = lambda n : [i for i in factors(n) if IsPrime(i)]\n",
    "    \n",
    "    result = factorize(n)\n",
    "    print result"
   ]
  },
  {
   "cell_type": "markdown",
   "metadata": {},
   "source": [
    "# Next Prime Number"
   ]
  },
  {
   "cell_type": "code",
   "execution_count": 103,
   "metadata": {
    "collapsed": false
   },
   "outputs": [
    {
     "name": "stdout",
     "output_type": "stream",
     "text": [
      "Do you wish to see next prime number:(Yes/No):n\n",
      "2\n"
     ]
    }
   ],
   "source": [
    "\"\"\"Have the program find prime numbers until the user chooses to stop asking for the next one. \"\"\"\n",
    "\n",
    "factors = lambda n: [i for i in range(2,n) if n%i == 0]\n",
    "isprime = lambda n: len(factors(n))==0\n",
    "\n",
    "def next_prime(num):\n",
    "    \n",
    "    num += 1\n",
    "    while not isprime(num):\n",
    "        num += 1\n",
    "    \n",
    "    return num\n",
    "\n",
    "if __name__ == \"__main__\":\n",
    "    n = \"Y\"\n",
    "    num = 1\n",
    "    while(n.upper() == \"Y\"):\n",
    "        n = raw_input(\"Do you wish to see next prime number:(Yes/No):\")\n",
    "        num = next_prime(num)\n",
    "        print num\n",
    "            "
   ]
  },
  {
   "cell_type": "markdown",
   "metadata": {},
   "source": [
    "# Find Cost of Tile to Cover W x H Floor "
   ]
  },
  {
   "cell_type": "code",
   "execution_count": 102,
   "metadata": {
    "collapsed": false
   },
   "outputs": [
    {
     "name": "stdout",
     "output_type": "stream",
     "text": [
      "Enter Width of Floor:40\n",
      "Enter length of floor:100\n",
      "Enter cost per tile:5\n",
      "Total Cost : $20000\n"
     ]
    }
   ],
   "source": [
    "\"\"\" \n",
    "Calculate the total cost of tile it would take to cover a floor plan of width and height, \n",
    "using a cost entered by the user.\n",
    "\"\"\"\n",
    "\n",
    "costoftile = lambda W,H,C : W*H*C\n",
    "\n",
    "if __name__ == \"__main__\":\n",
    "    \n",
    "    W = int(raw_input(\"Enter Width of Floor:\"))\n",
    "    H = int(raw_input(\"Enter length of floor:\"))\n",
    "    C = int(raw_input(\"Enter cost per tile:\"))\n",
    "    \n",
    "    print \"Total Cost : $%s\" %(costoftile(W,H,C))\n",
    "\n"
   ]
  },
  {
   "cell_type": "code",
   "execution_count": null,
   "metadata": {
    "collapsed": true
   },
   "outputs": [],
   "source": [
    "\"\"\"Calculate the monthly payments of a fixed term mortgage over given Nth terms at a given interest rate. \n",
    "Also figure out how long it will take the user to pay back the loan. For added complexity, \n",
    "add an option for users to select the compounding interval (Monthly, Weekly, Daily, Continually).\"\"\"\n",
    "\n",
    "\n"
   ]
  },
  {
   "cell_type": "markdown",
   "metadata": {},
   "source": [
    "# Change Return Program"
   ]
  },
  {
   "cell_type": "code",
   "execution_count": 172,
   "metadata": {
    "collapsed": false
   },
   "outputs": [
    {
     "name": "stdout",
     "output_type": "stream",
     "text": [
      "Enter Item Cost:14.54\n",
      "Enter amount givin:20\n",
      "{'Dime': 2, 'Dollar': 5, 'Penny': 1, 'Quarters': 2}\n"
     ]
    }
   ],
   "source": [
    "\"\"\"The user enters a cost and then the amount of money given. \n",
    "The program will figure out the change and the number of quarters, dimes, nickels, pennies needed for the change\"\"\"\n",
    "\n",
    "def denom(change):\n",
    "    denom = {\"Quarters\":25,\"Dime\":10,\"Nickel\":5,\"Penny\":1}\n",
    "    l = {}\n",
    "    \n",
    "    if givin > cost:\n",
    "        l[\"Dollar\"] = int(change)\n",
    "        change = (change - l[\"Dollar\"])*100\n",
    "        for i in sorted(denom.items(), key = lambda x : x[1] , reverse =True):\n",
    "            if int(change+.5) >= int(i[1]):\n",
    "                l[i[0]] = int((change/i[1])+0.5)\n",
    "                change = change % i[1]\n",
    "    \n",
    "    return l\n",
    "\n",
    "if __name__ == \"__main__\":\n",
    "    cost = raw_input(\"Enter Item Cost:\")\n",
    "    givin = raw_input(\"Enter amount givin:\")\n",
    "    change = float(givin)-float(cost)\n",
    "    print denom(change)"
   ]
  },
  {
   "cell_type": "markdown",
   "metadata": {},
   "source": [
    "# Binary to Decimal and Back Converter"
   ]
  },
  {
   "cell_type": "code",
   "execution_count": 199,
   "metadata": {
    "collapsed": false
   },
   "outputs": [
    {
     "name": "stdout",
     "output_type": "stream",
     "text": [
      "Enter Binary Number:10011100\n",
      "Enter Decimal Number:155\n",
      "Binary Conversion of 155 is 10011011\n",
      "Decimal Conversion of 10011100 is 156\n"
     ]
    }
   ],
   "source": [
    "\"\"\"Develop a converter to convert a decimal number to binary or a binary number to its decimal equivalent.\"\"\"\n",
    "\n",
    "def bin_to_dec(n):\n",
    "    sum = 0\n",
    "    for i in n:\n",
    "        sum = sum*2 +int(i)\n",
    "    return sum\n",
    "    \n",
    "def dec_to_bin(n):\n",
    "    b = []\n",
    "    while n <> 0:\n",
    "        b.append(n%2)\n",
    "        n = int(n/2)\n",
    "    return \"\".join(str(i) for i in b[::-1])\n",
    "        \n",
    "if __name__ == \"__main__\":\n",
    "    b = raw_input(\"Enter Binary Number:\")\n",
    "    d = int(raw_input(\"Enter Decimal Number:\"))\n",
    "        \n",
    "    print \"Binary Conversion of %s is %s\" %(d,dec_to_bin(d))\n",
    "    print \"Decimal Conversion of %s is %s\" %(b,bin_to_dec(b))"
   ]
  },
  {
   "cell_type": "markdown",
   "metadata": {},
   "source": [
    "# Calculator"
   ]
  },
  {
   "cell_type": "code",
   "execution_count": 213,
   "metadata": {
    "collapsed": false
   },
   "outputs": [
    {
     "name": "stdout",
     "output_type": "stream",
     "text": [
      "Enter First Number:4\n",
      "Enter Second Number:2\n",
      "Enter Operator**\n",
      "16\n"
     ]
    }
   ],
   "source": [
    "\"\"\"A simple calculator to do basic operators. Make it a scientific calculator for added complexity\n",
    "    Addition , Subtraction , Multiplication, Division , Square, Mod\"\"\"\n",
    "calc = lambda a,b,op: eval('a'+str(op)+'b')\n",
    "\n",
    "if __name__ == \"__main__\":\n",
    "    a = int(raw_input(\"Enter First Number:\"))\n",
    "    b = int(raw_input(\"Enter Second Number:\"))\n",
    "    op = raw_input(\"Enter Operator\")\n",
    "    print calc(a,b,op)"
   ]
  },
  {
   "cell_type": "code",
   "execution_count": null,
   "metadata": {
    "collapsed": true
   },
   "outputs": [],
   "source": []
  }
 ],
 "metadata": {
  "anaconda-cloud": {},
  "kernelspec": {
   "display_name": "Python [Root]",
   "language": "python",
   "name": "Python [Root]"
  },
  "language_info": {
   "codemirror_mode": {
    "name": "ipython",
    "version": 2
   },
   "file_extension": ".py",
   "mimetype": "text/x-python",
   "name": "python",
   "nbconvert_exporter": "python",
   "pygments_lexer": "ipython2",
   "version": "2.7.12"
  }
 },
 "nbformat": 4,
 "nbformat_minor": 0
}
