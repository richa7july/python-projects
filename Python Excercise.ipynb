{
 "cells": [
  {
   "cell_type": "markdown",
   "metadata": {},
   "source": [
    "# Character Input"
   ]
  },
  {
   "cell_type": "code",
   "execution_count": null,
   "metadata": {
    "collapsed": true
   },
   "outputs": [],
   "source": [
    "import datetime\n",
    "name = raw_input(\"Enter your Name:\")\n",
    "print ('Hi '+name)\n",
    "age = int(raw_input(\"Enter your Age:\"))\n",
    "now = datetime.datetime.now()\n",
    "a = 100 - age\n",
    "Hundred_Year = now.year + a\n",
    "print (\"You will completed 100 years in year: %s\" %(Hundred_Year))\n",
    "Number = int(raw_input(\"Enter Number from 1-10:\"))\n",
    "i = 0\n",
    "for i in range(0,Number):\n",
    "    print (\"You will completed 100 years in year: %s\" %(Hundred_Year))\n",
    "    i = i+1\n"
   ]
  },
  {
   "cell_type": "markdown",
   "metadata": {},
   "source": [
    "# Odd or Even"
   ]
  },
  {
   "cell_type": "code",
   "execution_count": 32,
   "metadata": {
    "collapsed": false
   },
   "outputs": [
    {
     "name": "stdout",
     "output_type": "stream",
     "text": [
      "Enter a Number:6\n",
      "Enter Number to check for its divisibility with 6:2\n",
      "Number is even\n",
      "Number 6 is divisible by 2 from 3\n"
     ]
    }
   ],
   "source": [
    "num = int(raw_input(\"Enter a Number:\"))\n",
    "check = int(raw_input(\"Enter Number to check for its divisibility with %s:\" %(num)))\n",
    "if (num%2 == 0) and (num%4 ==0):\n",
    "    print \"Number is even and is multiple of 4\"\n",
    "elif (num%2 == 0):\n",
    "    print \"Number is even\"\n",
    "else:\n",
    "    print \"Number is odd\"\n",
    "\n",
    "if (num%check == 0):\n",
    "    print \"Number %s is divisible by %s from %s\" %(num,check, num/check)\n",
    "else:\n",
    "    print \"Number %s is not divisible by %s\" %(num, check)\n"
   ]
  },
  {
   "cell_type": "markdown",
   "metadata": {},
   "source": [
    "# List Less than 10"
   ]
  },
  {
   "cell_type": "code",
   "execution_count": 36,
   "metadata": {
    "collapsed": false
   },
   "outputs": [
    {
     "name": "stdout",
     "output_type": "stream",
     "text": [
      "Choose a number:6\n",
      "[1, 1, 2, 3, 5]\n"
     ]
    }
   ],
   "source": [
    "l = [1,1,2,3,5,8,13,21,34,55,89]\n",
    "num = int(raw_input(\"Choose a number:\"))\n",
    "\n",
    "new_list = []\n",
    "for i in l:\n",
    "    if i < num:\n",
    "        new_list.append(i)\n",
    "\n",
    "print new_list\n"
   ]
  },
  {
   "cell_type": "markdown",
   "metadata": {},
   "source": [
    "# Divisor"
   ]
  },
  {
   "cell_type": "code",
   "execution_count": 8,
   "metadata": {
    "collapsed": false
   },
   "outputs": [
    {
     "name": "stdout",
     "output_type": "stream",
     "text": [
      "Choose A number:13\n",
      "1\n",
      "13\n",
      "[1, 13]\n"
     ]
    }
   ],
   "source": [
    "num = int(raw_input(\"Choose A number:\"))\n",
    "new_list = []\n",
    "for i in range(1,num+1):\n",
    "    if num%i == 0:\n",
    "        new_list.append(i)\n",
    "for i in new_list:\n",
    "    print i\n",
    "print new_list"
   ]
  },
  {
   "cell_type": "markdown",
   "metadata": {},
   "source": [
    "# List Overlap"
   ]
  },
  {
   "cell_type": "code",
   "execution_count": 16,
   "metadata": {
    "collapsed": false
   },
   "outputs": [
    {
     "name": "stdout",
     "output_type": "stream",
     "text": [
      "set([1, 2, 3, 5, 8, 13])\n"
     ]
    }
   ],
   "source": [
    "a = [1, 1, 2, 3, 5, 8, 13, 21, 34, 55, 89]\n",
    "b = [1, 2, 3, 4, 5, 6, 7, 8, 9, 10, 11, 12, 13]\n",
    "new_list =[]\n",
    "for i in a:\n",
    "    if i in b:\n",
    "        new_list.append(i)\n",
    "\n",
    "print set(new_list)"
   ]
  },
  {
   "cell_type": "code",
   "execution_count": 25,
   "metadata": {
    "collapsed": false,
    "scrolled": true
   },
   "outputs": [
    {
     "name": "stdout",
     "output_type": "stream",
     "text": [
      "[0, 1, 2, 3, 4, 5, 7, 9, 16, 17, 23, 24, 26, 27, 29] [0, 1, 3, 4, 5, 8, 9, 13, 14, 16, 17, 18, 19, 21, 22, 23, 25, 26, 27, 28]\n",
      "[27, 3, 1, 17, 23, 9, 0, 5, 26, 16, 4]\n"
     ]
    }
   ],
   "source": [
    "import random\n",
    "x = random.sample(range(30),15)\n",
    "y = random.sample(range(30), 20)\n",
    "print sorted(x) , sorted(y)\n",
    "new_list =[]\n",
    "for i in x:\n",
    "    if i in y and i not in new_list:\n",
    "        new_list.append(i)\n",
    "\n",
    "print new_list\n"
   ]
  },
  {
   "cell_type": "markdown",
   "metadata": {},
   "source": [
    "# Palindrome"
   ]
  },
  {
   "cell_type": "code",
   "execution_count": 38,
   "metadata": {
    "collapsed": false
   },
   "outputs": [
    {
     "name": "stdout",
     "output_type": "stream",
     "text": [
      "Enter a String: Racecar\n",
      "Its a Palindrome\n"
     ]
    }
   ],
   "source": [
    "str = raw_input(\"Enter a String: \")\n",
    "\n",
    "if str.upper() == str[::-1].upper():\n",
    "    print \"Its a Palindrome\"\n",
    "else: print \"Its not a Palindrome\"\n"
   ]
  },
  {
   "cell_type": "markdown",
   "metadata": {
    "collapsed": false
   },
   "source": [
    "# List Comprehension"
   ]
  },
  {
   "cell_type": "code",
   "execution_count": 41,
   "metadata": {
    "collapsed": false
   },
   "outputs": [
    {
     "name": "stdout",
     "output_type": "stream",
     "text": [
      "[4, 16, 36, 64, 100]\n"
     ]
    }
   ],
   "source": [
    "a = [1, 4, 9, 16, 25, 36, 49, 64, 81, 100]\n",
    "even = [i for i in a if i%2 == 0]\n",
    "print even"
   ]
  },
  {
   "cell_type": "markdown",
   "metadata": {
    "collapsed": false
   },
   "source": [
    "# Rock ,Paper , Scissors"
   ]
  },
  {
   "cell_type": "code",
   "execution_count": 20,
   "metadata": {
    "collapsed": false
   },
   "outputs": [
    {
     "name": "stdout",
     "output_type": "stream",
     "text": [
      "Enter choice for Ist player ( Rock, Paper, Scissors) : rock\n",
      "Enter chice for 2nd Player ( Rock, Paper, Scissors) : Rock\n",
      "Game is draw\n"
     ]
    }
   ],
   "source": [
    "player1 = raw_input(\"Enter choice for Ist player ( Rock, Paper, Scissors) : \")\n",
    "player2 = raw_input(\"Enter chice for 2nd Player ( Rock, Paper, Scissors) : \")\n",
    "\n",
    "def check_input(player):\n",
    "    if player.upper() != 'ROCK' and player.upper() <> \"PAPER\" and player.upper() <> \"SCISSORS\":\n",
    "        return 1\n",
    "    return 0\n",
    "\n",
    "def winner(p1,p2):\n",
    "    if (p1.upper() == 'ROCK' and p2.upper() == 'SCISSORS') or (p1.upper() == 'SCISSORS' and p2.upper() == 'PAPER') or (p1.upper() == 'PAPER' and p2.upper() == 'ROCK'):\n",
    "        return p1\n",
    "    elif (p2.upper() == 'ROCK' and p1.upper() == 'SCISSORS') or (p2.upper() == 'SCISSORS' and p1.upper() == 'PAPER') or (p2.upper() == 'PAPER' and p1.upper() == 'ROCK'):\n",
    "        return p2\n",
    "\n",
    "while check_input(player1) == 1:\n",
    "    player1 = raw_input(\"Reenter Choice for Player 1: \")\n",
    "while check_input(player2) == 1:\n",
    "    player2 = raw_input(\"Reenter Choice for Player 2: \")\n",
    "    \n",
    "if winner(player1,player2) == player1:\n",
    "    print \"Congratulations Player1\"\n",
    "elif winner(player1,player2) == player2:\n",
    "    print \"Congratulations Player2\"\n",
    "elif player1.upper() == player2.upper():\n",
    "    print \"Game is draw\"\n",
    "\n",
    "\n",
    "\n",
    "    \n"
   ]
  },
  {
   "cell_type": "code",
   "execution_count": 28,
   "metadata": {
    "collapsed": false
   },
   "outputs": [
    {
     "name": "stdout",
     "output_type": "stream",
     "text": [
      "Enter choice for Ist player ( Rock, Paper, Scissors) : rock\n",
      "Enter chice for 2nd Player ( Rock, Paper, Scissors) : paper\n",
      "1 3\n"
     ]
    }
   ],
   "source": [
    "game_dict = {'ROCK':1, 'SCISSORS': 2, 'PAPER':3}\n",
    "p1 = raw_input(\"Enter choice for Ist player ( Rock, Paper, Scissors) : \")\n",
    "p2 = raw_input(\"Enter chice for 2nd Player ( Rock, Paper, Scissors) : \")\n",
    "a = game_dict.get(p1.upper())\n",
    "b = game_dict.get(p2.upper())\n",
    "print a, b"
   ]
  },
  {
   "cell_type": "markdown",
   "metadata": {},
   "source": [
    "# Number Guessing game"
   ]
  },
  {
   "cell_type": "code",
   "execution_count": 57,
   "metadata": {
    "collapsed": false
   },
   "outputs": [
    {
     "name": "stdout",
     "output_type": "stream",
     "text": [
      "Guess a number between 1-9: 5\n",
      "Guessed too high\n",
      "Do you which to continue: (Y,N)y\n",
      "Guess a number between 1-9: 3\n",
      "Gussed too low\n",
      "Do you which to continue: (Y,N)y\n",
      "Guess a number between 1-9: 4\n",
      "Guessed Eactly same in 3 chances\n",
      "Do you want to play another game: (Y,N)y\n",
      "Guess a number between 1-9: 4\n",
      "Guessed Eactly same in 1 chances\n",
      "Do you want to play another game: (Y,N)n\n",
      "Guess a number between 1-9: t\n"
     ]
    },
    {
     "ename": "ValueError",
     "evalue": "invalid literal for int() with base 10: 't'",
     "output_type": "error",
     "traceback": [
      "\u001b[0;31m---------------------------------------------------------------------------\u001b[0m",
      "\u001b[0;31mValueError\u001b[0m                                Traceback (most recent call last)",
      "\u001b[0;32m<ipython-input-57-f997421b64ef>\u001b[0m in \u001b[0;36m<module>\u001b[0;34m()\u001b[0m\n\u001b[1;32m     22\u001b[0m     \u001b[0;32mif\u001b[0m \u001b[0mi\u001b[0m \u001b[0;34m==\u001b[0m \u001b[0;34m'Y'\u001b[0m \u001b[0;32mor\u001b[0m \u001b[0ms\u001b[0m \u001b[0;34m==\u001b[0m \u001b[0;34m'Y'\u001b[0m\u001b[0;34m:\u001b[0m\u001b[0;34m\u001b[0m\u001b[0m\n\u001b[1;32m     23\u001b[0m         \u001b[0mchance\u001b[0m \u001b[0;34m+=\u001b[0m \u001b[0;36m1\u001b[0m\u001b[0;34m\u001b[0m\u001b[0m\n\u001b[0;32m---> 24\u001b[0;31m         \u001b[0mi_num\u001b[0m \u001b[0;34m=\u001b[0m \u001b[0mint\u001b[0m\u001b[0;34m(\u001b[0m\u001b[0mraw_input\u001b[0m\u001b[0;34m(\u001b[0m\u001b[0;34m\"Guess a number between 1-9: \"\u001b[0m\u001b[0;34m)\u001b[0m\u001b[0;34m)\u001b[0m\u001b[0;34m\u001b[0m\u001b[0m\n\u001b[0m\u001b[1;32m     25\u001b[0m         \u001b[0ms\u001b[0m \u001b[0;34m=\u001b[0m \u001b[0;34m'O'\u001b[0m\u001b[0;34m\u001b[0m\u001b[0m\n\u001b[1;32m     26\u001b[0m     \u001b[0;32melse\u001b[0m\u001b[0;34m:\u001b[0m\u001b[0;34m\u001b[0m\u001b[0m\n",
      "\u001b[0;31mValueError\u001b[0m: invalid literal for int() with base 10: 't'"
     ]
    }
   ],
   "source": [
    "import random\n",
    "num = random.randint(1,9)\n",
    "i_num = int(raw_input(\"Guess a number between 1-9: \"))\n",
    "\n",
    "exit = 0\n",
    "chance = 1\n",
    "s = 'O'\n",
    "\n",
    "while exit != 1:\n",
    "    if num>i_num:\n",
    "        print (\"Gussed too low\")\n",
    "    elif num < i_num:\n",
    "        print (\"Guessed too high\")\n",
    "    else: \n",
    "        print (\"Guessed Eactly same in %s chances\" %(chance))\n",
    "        s = raw_input(\"Do you want to play another game: (Y,N)\").upper()\n",
    "        chance = 0\n",
    "        \n",
    "    if s == 'O':\n",
    "        i = raw_input(\"Do you which to continue: (Y,N)\").upper()\n",
    "    \n",
    "    if i == 'Y' or s == 'Y':\n",
    "        chance += 1\n",
    "        i_num = int(raw_input(\"Guess a number between 1-9: \"))\n",
    "        s = 'O'\n",
    "    else:\n",
    "        exit = 1\n",
    "        \n",
    "print chance"
   ]
  },
  {
   "cell_type": "markdown",
   "metadata": {},
   "source": [
    "# List Overlap Comprehension"
   ]
  },
  {
   "cell_type": "code",
   "execution_count": 12,
   "metadata": {
    "collapsed": false
   },
   "outputs": [
    {
     "name": "stdout",
     "output_type": "stream",
     "text": [
      "[1, 13, 19, 4, 11, 14, 20, 17, 6, 24]\n",
      "[26, 24, 5, 25, 10, 20, 8, 15, 23, 16, 21, 0]\n",
      "[20, 24]\n",
      "[20, 24]\n"
     ]
    }
   ],
   "source": [
    "import random\n",
    "a = random.sample(range(30), 10)\n",
    "b = random.sample(range(30), 12)\n",
    "\n",
    "l = [x for x in a for y in b if x-y == 0]\n",
    "l1 = [x for x in a if x in b]\n",
    "\n",
    "print a\n",
    "print b \n",
    "print l\n",
    "print l1"
   ]
  },
  {
   "cell_type": "code",
   "execution_count": null,
   "metadata": {
    "collapsed": false
   },
   "outputs": [],
   "source": [
    "num = int(raw_input(\"Enter a number: \"))\n",
    "\n",
    "prime = 0\n",
    "\n",
    "for i in range(2,num):\n",
    "    if num%i == 0:\n",
    "        print \"%s is not prime\" %(num)\n",
    "        prime = 1\n",
    "        break\n",
    "\n",
    "if prime == 0:\n",
    "    print \"%s is prime number\" %(num)\n"
   ]
  },
  {
   "cell_type": "code",
   "execution_count": 33,
   "metadata": {
    "collapsed": false
   },
   "outputs": [
    {
     "name": "stdout",
     "output_type": "stream",
     "text": [
      "[6, 7, 5, 9, 3, 2, 8, 14, 11, 12]\n",
      "[6, 12]\n"
     ]
    }
   ],
   "source": [
    "def func(l):\n",
    "    return [l[0],l[-1]]\n",
    "\n",
    "import random\n",
    "a = random.sample(range(15),10)\n",
    "\n",
    "l = func(a)\n",
    "print a\n",
    "print l"
   ]
  },
  {
   "cell_type": "code",
   "execution_count": null,
   "metadata": {
    "collapsed": false
   },
   "outputs": [],
   "source": []
  },
  {
   "cell_type": "code",
   "execution_count": 39,
   "metadata": {
    "collapsed": false
   },
   "outputs": [
    {
     "name": "stdout",
     "output_type": "stream",
     "text": [
      "Enter number to generate Fibonaccai :6\n",
      "[1, 1, 2, 3, 5, 8, 13, 21]\n"
     ]
    }
   ],
   "source": [
    "def fib(num):\n",
    "    if num == 1:\n",
    "        return [1]\n",
    "    elif num == 2:\n",
    "        return [1,1]\n",
    "    else:\n",
    "        f = [1,1]\n",
    "        i=0\n",
    "        while i <> num:\n",
    "            f.append(f[i]+f[i+1])\n",
    "            i += 1\n",
    "        return f\n",
    "\n",
    "n = int(raw_input(\"Enter number to generate Fibonaccai :\"))\n",
    "\n",
    "l = fib(n)\n",
    "\n",
    "print l"
   ]
  },
  {
   "cell_type": "code",
   "execution_count": 45,
   "metadata": {
    "collapsed": false
   },
   "outputs": [
    {
     "name": "stdout",
     "output_type": "stream",
     "text": [
      "[0, 4, 7, 8, 4, 3, 5, 7, 9, 10, 12, 11, 8]\n",
      "[0, 4, 7, 8, 3, 5, 9, 10, 12, 11]\n"
     ]
    }
   ],
   "source": [
    "import random\n",
    "\n",
    "def dup(l):\n",
    "    y = []\n",
    "    \n",
    "    for i in l:\n",
    "        if i not in y:\n",
    "            y.append(i)\n",
    "            \n",
    "    return y\n",
    "\n",
    "l = [0,4,7,8,4,3,5,7,9,10,12,11,8]\n",
    "\n",
    "a = dup(l)\n",
    "\n",
    "print l\n",
    "print a\n"
   ]
  },
  {
   "cell_type": "code",
   "execution_count": 50,
   "metadata": {
    "collapsed": false
   },
   "outputs": [
    {
     "name": "stdout",
     "output_type": "stream",
     "text": [
      "Enter a String:My Name is Richa\n",
      "Richa is Name My\n"
     ]
    }
   ],
   "source": [
    "str = raw_input(\"Enter a String:\")\n",
    "l= str.split()\n",
    "r = l[::-1]\n",
    "print \" \".join(r)"
   ]
  },
  {
   "cell_type": "code",
   "execution_count": 56,
   "metadata": {
    "collapsed": false
   },
   "outputs": [
    {
     "data": {
      "text/plain": [
       "'!y5l*gIU'"
      ]
     },
     "execution_count": 56,
     "metadata": {},
     "output_type": "execute_result"
    }
   ],
   "source": [
    "import random\n",
    "\n",
    "s='abcdefghijklmnopqrstuvwxyz0123456789ABCDEFGHIJKLMNOPQRSTUVWXYZ!@#$%^&*()'\n",
    "\n",
    "\"\".join(random.sample(s,8))"
   ]
  },
  {
   "cell_type": "code",
   "execution_count": 82,
   "metadata": {
    "collapsed": false
   },
   "outputs": [
    {
     "name": "stdout",
     "output_type": "stream",
     "text": [
      "J;(`\"ZC+)Iz\n",
      "\\\f",
      "f]Sq^m~C~\n"
     ]
    }
   ],
   "source": [
    "import string\n",
    "print \"\".join(random.sample(string.printable,random.randint(8,12)))\n",
    "print  \"\".join([string.printable[random.randint(0,len(string.printable)-1)] for i in range(random.randint(8,12))])"
   ]
  },
  {
   "cell_type": "code",
   "execution_count": 146,
   "metadata": {
    "collapsed": false
   },
   "outputs": [
    {
     "name": "stdout",
     "output_type": "stream",
     "text": [
      "Heading #1\n",
      "Trump Set to Pick Fast-Food Executive for Labor Secretary\n",
      "Heading #2\n",
      "How Does the Auto Industry Feel About Trump? ‘Perplexed’\n",
      "Heading #3\n",
      "Trump Is Said to Intend to Keep Stake in His Business\n",
      "Heading #4\n",
      "‘The Intel on This Wasn’t 100%,’ Says Pizzeria Gunman\n",
      "Heading #5\n",
      "As Fake News Spreads Lies, More Readers Shrug at Truth\n",
      "Heading #6\n",
      "Grandiose Ideas for Inaugural Give Way to Tradition\n",
      "Heading #7\n",
      "Transition Briefing: Christie Won’t Head Republican Party 12:21 PM ET\n",
      "Heading #8\n",
      "Graphic: How Trump Can Influence Climate Change\n",
      "Heading #9\n",
      "Alone, Sleepless and Glum, South Korean Leader Faces Ruin\n",
      "Heading #10\n",
      "Claims Against South Korean President: Extortion, Abuse of Power and Bribery\n",
      "Heading #11\n",
      "Disillusionment in Heartland of South Korean President’s Support\n",
      "Heading #12\n",
      "On Board a Migrant Rescue Ship\n",
      "Heading #13\n",
      "Your Friday Briefing\n",
      "Heading #14\n",
      "\n",
      "Heading #15\n",
      "California Today: Booksellers See a Threat in New Law\n",
      "Heading #16\n",
      "Fend Off Colds With Carbs (and Exercise)\n",
      "Heading #17\n",
      "Chinese Dishes You Can Make at Home\n",
      "Heading #18\n",
      "‘They Are Slaughtering Us Like Animals’\n",
      "Heading #19\n",
      "On Campus, Trump Fans Say They Need ‘Safe Spaces’\n",
      "Heading #20\n",
      "Iran Races to Seal Oil Deals Before Trump Takes Office\n",
      "Heading #21\n",
      "‘Hairspray Live!’ and the Lessons From 7 TV Musicals\n",
      "Heading #22\n",
      "Review: ‘Hairspray Live!’ Had Power Voices but Lacked Power\n",
      "Heading #23\n",
      "Albany Puzzles Over Cuomo Ally’s Attacks on Democrats\n",
      "Heading #24\n",
      "U.K. Police Said to Have Abused Vulnerable People 9:57 AM ET\n",
      "Heading #25\n",
      "Greg Lake, Progressive Rock Pioneer, Dies at 69\n",
      "Heading #26\n",
      "Heart-Rending Testimony as Dylann Roof Trial Opens\n",
      "Heading #27\n",
      "De Blasio Calls Steam-Burn Deaths a ‘Freak Accident’ 3:00 PM ET\n",
      "Heading #28\n",
      "What It’s Like Dating With a Disability\n",
      "Heading #29\n",
      "Anna Kendrick: The First Time I Made a Movie\n",
      "Heading #30\n",
      "Podcast: ‘Big Social’ and Facebook’s Moral Core\n",
      "Heading #31\n",
      "Harry Reid: Farewell, Fair Senate\n",
      "Heading #32\n",
      "Editorial: An Enemy of the E.P.A.\n",
      "Heading #33\n",
      "Blow: Madman of the Year\n",
      "Heading #34\n",
      "Collins: Poor Al Gore\n",
      "Heading #35\n",
      "Kristof: Identity Politics and a Dad’s Loss\n",
      "Heading #36\n",
      "Rosenthal: Trump’s Big Idea: Don’t Blame Me\n",
      "Heading #37\n",
      "Edsall: Trump Voters Are Feeling It 12:50 PM ET\n",
      "Heading #38\n",
      "Greenhouse: The Federal Courts Up For Grabs\n",
      "Heading #39\n",
      "The American Dream, Quantified at Last\n",
      "Heading #40\n",
      "41 Murder Scenes. 57 Bodies. 35 Days in Manila. A Photographer’s Perspective.\n",
      "Heading #41\n",
      "Good, Bad and Mad: Andrew Rosenthal on the News\n",
      "Heading #42\n",
      "41 Murder Scenes. 57 Bodies. 35 Days in Manila. A Photographer’s Perspective.\n",
      "Heading #43\n",
      "Play Today’s Puzzle\n",
      "Heading #44\n",
      "Play Today’s Puzzle\n",
      "Heading #45\n",
      "Come On Along With Us\n",
      "Heading #46\n",
      "In Debt, but Undaunted\n",
      "Heading #47\n",
      "When a Parent Treats a Child Badly\n",
      "Heading #48\n",
      "In Japan, Sweets Take On an Artistic Role\n",
      "Heading #49\n",
      "Using Tough Talk to Create Real Jobs\n",
      "Heading #50\n",
      "Britain’s Car Industry Is Vulnerable After ‘Brexit’\n",
      "Heading #51\n",
      "Will the Next Deepwater Horizon Be in Mexico?\n",
      "Heading #52\n",
      "Reggie Watts, Leading Absurdist Comedy\n",
      "Heading #53\n",
      "Why There’s No ‘Millennial’ Novel\n",
      "Heading #54\n",
      "‘Safe for Young Ears’? Many Headphones Aren’t\n",
      "Heading #55\n",
      "It Could Have Been Any One of Us\n",
      "Heading #56\n",
      "The Year’s Best Baking Cookbooks\n",
      "Heading #57\n",
      "The Nanny State and Public Housing Tenants\n",
      "Heading #58\n",
      "Lens: Photos That Give Drummers Their Due\n",
      "Heading #59\n",
      "Cuba’s Surge in Tourism Keeps Food Off Residents’ Plates\n",
      "Heading #60\n",
      "Facebook Struggles to Put Out Online Fires in Israeli-Palestinian Conflict\n",
      "Heading #61\n",
      "Wary Corporate Chiefs Keep an Ear Tuned to Trump’s Messages\n",
      "Heading #62\n",
      "Donald Trump Is Said to Intend to Keep a Stake in His Business\n",
      "Heading #63\n",
      "What’s at Stake: An Enemy of the E.P.A. to Head It\n",
      "Heading #64\n",
      "Charles M. Blow: Trump: Madman of the Year\n",
      "Heading #65\n",
      "The Oakland Fire: Delving Into What Happened, and Why\n",
      "Heading #66\n",
      "Heart-Rending Testimony as Dylann Roof Trial Opens\n",
      "Heading #67\n",
      "With LinkedIn, Microsoft Looks to Avoid Past Acquisition Busts\n",
      "Heading #68\n",
      "Tech Fix: Worried About the Privacy of Your Messages? Download Signal.\n",
      "Heading #69\n",
      "Critic's Notebook: After ‘Hairspray Live!’: 7 TV Musicals and 5 Lessons Learned\n",
      "Heading #70\n",
      "Anna Kendrick: The First Time I Made a Movie (at 16)\n",
      "Heading #71\n",
      "Trump’s Likely Labor Pick, Andrew Puzder, Is Critic of Minimum Wage Increases\n",
      "Heading #72\n",
      "On Campus, Trump Fans Say They Need ‘Safe Spaces’\n",
      "Heading #73\n",
      "Unbuttoned: Color of 2017? Pantone Picks a Spring Shade\n",
      "Heading #74\n",
      "Critical Shopper: A Change Purse in T-Rex Skin, Perhaps?\n",
      "Heading #75\n",
      "The Best Movies of 2016\n",
      "Heading #76\n",
      "The Carpetbagger: A Casualty of ‘The Birth of a Nation’ Controversy Speaks Out\n",
      "Heading #77\n",
      "BlackRock Reaches a Deal for a Move to Hudson Yards\n",
      "Heading #78\n",
      "Andrew Cuomo Stays Silent as an Ally Fuels Disorder Among Senate Democrats\n",
      "Heading #79\n",
      "Aroldis Chapman Acquired by Yankees in Five-Year, $86 Million Deal\n",
      "Heading #80\n",
      "Great Moments in Cheerleading: Could the Olympics Be Next?\n",
      "Heading #81\n",
      "Review: In This ‘Winter’s Tale,’ the King Is Insane. It’s as Simple as That.\n",
      "Heading #82\n",
      "The Best Theater of 2016\n",
      "Heading #83\n",
      "Giraffes, Towering and Otherworldly, Are ‘Vulnerable’ to Extinction\n",
      "Heading #84\n",
      "How Trump Can Influence Climate Change\n",
      "Heading #85\n",
      "Nancy Mairs, Who Wrote About Her Mental Illness and Multiple Sclerosis, Dies at 73\n",
      "Heading #86\n",
      "Robert A. Wilson, 94, Whose Bookshop Was Poets’ Sanctuary, Dies\n",
      "Heading #87\n",
      "Review: ‘Hairspray Live!’ Had Power Voices but Still Lacked Power\n",
      "Heading #88\n",
      "The Best TV Shows of 2016\n",
      "Heading #89\n",
      "Children’s Headphones May Carry Risk of Hearing Loss\n",
      "Heading #90\n",
      "Use of E-Cigarettes by Young People Is Major Concern, Surgeon General Declares\n",
      "Heading #91\n",
      "Temples for the Literary Pilgrim\n",
      "Heading #92\n",
      "7 Writers on Their Favorite Bookstores\n",
      "Heading #93\n",
      "The Best Book Covers of 2016\n",
      "Heading #94\n",
      "Books of The Times: Review: ‘Against Empathy,’ or the Right Way to Feel Someone’s Pain\n",
      "Heading #95\n",
      "World Ranking: What America Can Learn About Smart Schools in Other Countries\n",
      "Heading #96\n",
      "Yale Sets Policy That Could Allow Renaming of Calhoun College\n",
      "Heading #97\n",
      "Restaurant Review: At Aska, a Nordic Chef’s Vision Bears Fruit (and Lichens)\n",
      "Heading #98\n",
      "An Entertaining Plan to Maximize Mingling\n",
      "Heading #99\n",
      "Editorial: Where Unfair Voting Practices Begin\n",
      "Heading #100\n",
      "Frank Bruni: How to Win a Senate Race\n",
      "Heading #101\n",
      "The Hunt: A Safe Choice in Stuyvesant Town\n",
      "Heading #102\n",
      "Living In: Stapleton, Staten Island: Revitalizing Old Homes and Tired Blocks\n",
      "Heading #103\n",
      "Loaded Phrase: Why Trump’s Use of the Words ‘Urban Renewal’ Is Scary for Cities\n",
      "Heading #104\n",
      "Public Health: An Obamacare ‘Delay’ Plan Could Backfire\n",
      "Heading #105\n",
      "Great Performers: Great Performers: The Portraits\n",
      "Heading #106\n",
      "Great Performers: The Year’s Most Captivating Film Performances\n",
      "Heading #107\n",
      "Driven: Video Review: With the LaCrosse, Buick Continues to Pamper\n",
      "Heading #108\n",
      "Tied to Europe, Britain’s Car Industry Is Vulnerable After ‘Brexit’\n",
      "Heading #109\n",
      "One Artist Threw a Party a Week for an Entire Year\n",
      "Heading #110\n",
      "Drinking and Eating Like Old Writers and Artists\n",
      "Heading #111\n",
      "Looking Back: 1928 | Fake News With a Crooked Flair\n",
      "Heading #112\n",
      "Insider Podcasts: Good, Bad and Mad: Andrew Rosenthal on the News\n",
      "Heading #113\n",
      "A Safe Choice in Stuyvesant Town\n",
      "Heading #114\n",
      "Search for Homes for Sale or Rent\n",
      "Heading #115\n",
      "Sell Your Home\n"
     ]
    }
   ],
   "source": [
    "import requests\n",
    "from bs4 import BeautifulSoup\n",
    "url = 'http://www.nytimes.com/'\n",
    "r = requests.get(url)\n",
    "t_html = r.text\n",
    "\n",
    "soup = BeautifulSoup(t_html, 'html.parser')\n",
    "\n",
    "i=1\n",
    "\n",
    "for story in soup.find_all('h2',{'class':'story-heading'}):\n",
    "    print \"Heading #%s\" %(i)\n",
    "    print story.text.strip()\n",
    "    i += 1"
   ]
  },
  {
   "cell_type": "code",
   "execution_count": 27,
   "metadata": {
    "collapsed": false
   },
   "outputs": [
    {
     "name": "stdout",
     "output_type": "stream",
     "text": [
      "Welcome to cow bull game\n",
      "Enter a number of 4 digit: 3456\n",
      "Bulls: 0 Cows: 2\n",
      "Enter a number of 4 digit: exit\n"
     ]
    }
   ],
   "source": [
    "\"\"\"Cow Bull Game  \"\"\"\n",
    "import string\n",
    "import random\n",
    "\n",
    "def get_guess():\n",
    "    \n",
    "    try:\n",
    "        guess = list(raw_input(\"Enter a number of 4 digit: \"))\n",
    "        if len(guess) != 4:\n",
    "            raise ValueError\n",
    "    except ValueError:\n",
    "        print \"Invalid entry\"\n",
    "        return get_guess()\n",
    "    \n",
    "    return guess\n",
    "\n",
    "def compare_numbers(num, guess):\n",
    "    l = {'cow':0, 'bull':0}\n",
    "    pos = []\n",
    "    for i in range(len(num)):\n",
    "        if num[i] == guess[i]:\n",
    "            l['bull'] += 1\n",
    "        else:\n",
    "            pos.append(i)\n",
    "    for j in pos:\n",
    "        if guess[j] in num:\n",
    "            l['cow'] += 1\n",
    "    return l\n",
    "\n",
    "def play(num):\n",
    "    cow_bull = {}\n",
    "    chance = 0  \n",
    "    guess = get_guess()\n",
    "    while \"\".join(guess) <> 'exit':\n",
    "        if guess == num:\n",
    "            print \"Congratulations!! You Guessed correctly.\"\n",
    "            guess = 'exit'\n",
    "        else:\n",
    "            cow_bull = compare_numbers(num,guess)\n",
    "            #print \"Number generated is : %s\" %(\"\".join(num))\n",
    "            print \"Bulls: %s Cows: %s\" %(cow_bull['bull'] ,cow_bull['cow'] )\n",
    "            guess = get_guess()\n",
    "    \n",
    "if __name__ == \"__main__\":\n",
    "    print \"Welcome to cow bull game\"\n",
    "    play(random.sample(string.digits,4))\n",
    "\n"
   ]
  },
  {
   "cell_type": "code",
   "execution_count": 50,
   "metadata": {
    "collapsed": false
   },
   "outputs": [
    {
     "name": "stdout",
     "output_type": "stream",
     "text": [
      "Enter element for search: 501\n",
      "0\n",
      "False\n"
     ]
    }
   ],
   "source": [
    "\n",
    "def find(ordered_list, element):\n",
    "    middle_indx=len(ordered_list)/2\n",
    "    \n",
    "    if not len(ordered_list):\n",
    "        print (len(ordered_list))\n",
    "        return False\n",
    "    \n",
    "    middle_element = ordered_list[middle_indx]\n",
    "    if middle_element == element:\n",
    "        return True\n",
    "    elif middle_element > element:\n",
    "        #print ordered_list[:middle_indx]\n",
    "        return find(ordered_list[:middle_indx],element)\n",
    "    elif middle_element < element:\n",
    "        #print ordered_list[middle_indx+1:]\n",
    "        return find(ordered_list[middle_indx+1:],element)\n",
    "    else:\n",
    "        return False\n",
    "                        \n",
    "        \n",
    "\n",
    "if __name__ == \"__main__\":\n",
    "    a = [1, 3, 5, 30, 42, 43, 500]\n",
    "    element = int(raw_input(\"Enter element for search: \"))\n",
    "    \n",
    "    print(find(a,element))\n",
    "\n",
    "\n",
    "\n"
   ]
  },
  {
   "cell_type": "code",
   "execution_count": 57,
   "metadata": {
    "collapsed": true
   },
   "outputs": [],
   "source": [
    "with open('file_new.txt','a') as open_file:\n",
    "    open_file.write('\\nThis is my second string')"
   ]
  },
  {
   "cell_type": "code",
   "execution_count": 92,
   "metadata": {
    "collapsed": false
   },
   "outputs": [],
   "source": [
    "import requests\n",
    "from bs4 import BeautifulSoup\n",
    "\n",
    "a = 'http://rajeshthallam.com/about/'\n",
    "r = requests.get(a)\n",
    "\n",
    "soup = BeautifulSoup(r.content,'html.parser')\n",
    "\n",
    "#print soup \n",
    "\n",
    "for story in soup.find_all('section',{'class':'page__content'}):\n",
    "    file_text = story.text.encode('utf-8').strip()\n",
    "    with open('Rajesh_file.txt','a') as open_file:\n",
    "        open_file.write(file_text)\n",
    "    \n"
   ]
  },
  {
   "cell_type": "code",
   "execution_count": 10,
   "metadata": {
    "collapsed": false
   },
   "outputs": [
    {
     "name": "stdout",
     "output_type": "stream",
     "text": [
      "{'Luke': 15, 'Darth': 31, 'Lea': 54}\n"
     ]
    }
   ],
   "source": [
    "with open('names_test.txt','r') as open_file:\n",
    "    line = open_file.readline()\n",
    "    dict_name ={}\n",
    "    while line:\n",
    "        l = line.strip()\n",
    "        if l in dict_name.keys():\n",
    "            dict_name[l] += 1\n",
    "        else:\n",
    "            dict_name[l] = 1\n",
    "        line = open_file.readline() \n",
    "        \n",
    "    print dict_name"
   ]
  },
  {
   "cell_type": "code",
   "execution_count": 18,
   "metadata": {
    "collapsed": false
   },
   "outputs": [
    {
     "name": "stdout",
     "output_type": "stream",
     "text": [
      "('forest_road', 50)\n",
      "('nursery', 50)\n",
      "('baggage_claim', 50)\n",
      "('mansion', 50)\n",
      "('chicken_coop', 100)\n",
      "('electrical_substation', 50)\n",
      "('mosque', 100)\n",
      "('biology_laboratory', 50)\n",
      "('stable', 50)\n",
      "('music_store', 50)\n",
      "('toll_plaza', 50)\n",
      "('hill', 50)\n",
      "('viaduct', 50)\n",
      "('wave', 50)\n",
      "('tennis_court', 100)\n",
      "('recreation_room', 50)\n",
      "('jail_cell', 50)\n",
      "('harbor', 50)\n",
      "('trench', 50)\n",
      "('cloister', 50)\n",
      "('attic', 50)\n",
      "('heliport', 50)\n",
      "('pilothouse', 50)\n",
      "('street', 50)\n",
      "('booth', 50)\n",
      "('candy_store', 50)\n",
      "('pulpit', 50)\n",
      "('ice_floe', 50)\n",
      "('gazebo', 50)\n",
      "('auto_factory', 50)\n",
      "('formal_garden', 50)\n",
      "('landing_deck', 50)\n",
      "('casino', 50)\n",
      "('amusement_park', 50)\n",
      "('television_studio', 50)\n",
      "('squash_court', 50)\n",
      "('atrium', 50)\n",
      "('islet', 50)\n",
      "('market', 100)\n",
      "('hospital', 50)\n",
      "('vineyard', 50)\n",
      "('bayou', 50)\n",
      "('restaurant_kitchen', 50)\n",
      "('raft', 50)\n",
      "('cottage_garden', 50)\n",
      "('labyrinth', 50)\n",
      "('berth', 50)\n",
      "('waiting_room', 50)\n",
      "('parking_garage', 100)\n",
      "('crevasse', 50)\n",
      "('campsite', 50)\n",
      "('lock_chamber', 50)\n",
      "('ball_pit', 50)\n",
      "('sandbar', 50)\n",
      "('pond', 50)\n",
      "('poolroom', 100)\n",
      "('herb_garden', 50)\n",
      "('corn_field', 50)\n",
      "('limousine_interior', 50)\n",
      "('lecture_room', 50)\n",
      "('forest', 100)\n",
      "('thriftshop', 50)\n",
      "('hangar', 100)\n",
      "('beach', 50)\n",
      "('staircase', 50)\n",
      "('music_studio', 50)\n",
      "('catacomb', 50)\n",
      "('water_tower', 50)\n",
      "('chemistry_lab', 50)\n",
      "('arch', 50)\n",
      "('classroom', 50)\n",
      "('clean_room', 50)\n",
      "('badlands', 50)\n",
      "('orchard', 50)\n",
      "('corral', 50)\n",
      "('swimming_pool', 100)\n",
      "('sandbox', 50)\n",
      "('jail', 50)\n",
      "('patio', 50)\n",
      "('apse', 50)\n",
      "('forest_path', 50)\n",
      "('subway_station', 50)\n",
      "('office', 50)\n",
      "('ski_resort', 50)\n",
      "('train_railway', 50)\n",
      "('shopfront', 50)\n",
      "('jacuzzi', 50)\n",
      "('schoolhouse', 50)\n",
      "('coffee_shop', 50)\n",
      "('rope_bridge', 50)\n",
      "('shoe_shop', 50)\n",
      "('racecourse', 50)\n",
      "('courthouse', 50)\n",
      "('fairway', 50)\n",
      "('abbey', 50)\n",
      "('marsh', 50)\n",
      "('shopping_mall', 50)\n",
      "('dam', 50)\n",
      "('golf_course', 50)\n",
      "('dock', 50)\n",
      "('courtroom', 50)\n",
      "('vegetable_garden', 50)\n",
      "('wind_farm', 50)\n",
      "('boat_deck', 50)\n",
      "('van_interior', 50)\n",
      "('operating_room', 50)\n",
      "('volcano', 50)\n",
      "('cheese_factory', 50)\n",
      "('house', 50)\n",
      "('fishpond', 50)\n",
      "('gymnasium', 50)\n",
      "('pantry', 50)\n",
      "('volleyball_court', 100)\n",
      "('cathedral', 100)\n",
      "('utility_room', 50)\n",
      "('conference_center', 50)\n",
      "('ballroom', 50)\n",
      "('dining_car', 50)\n",
      "('factory', 50)\n",
      "('driving_range', 50)\n",
      "('fountain', 50)\n",
      "('playground', 50)\n",
      "('construction_site', 50)\n",
      "('brewery', 50)\n",
      "('highway', 50)\n",
      "('wrestling_ring', 50)\n",
      "('bistro', 50)\n",
      "('tree_house', 50)\n",
      "('living_room', 50)\n",
      "('bullring', 50)\n",
      "('pub', 50)\n",
      "('cockpit', 50)\n",
      "('arrival_gate', 50)\n",
      "('nuclear_power_plant', 50)\n",
      "('river', 50)\n",
      "('yard', 50)\n",
      "('control_room', 50)\n",
      "('rainforest', 50)\n",
      "('castle', 50)\n",
      "('restaurant_patio', 50)\n",
      "('throne_room', 50)\n",
      "('discotheque', 50)\n",
      "('athletic_field', 50)\n",
      "('galley', 50)\n",
      "('elevator', 100)\n",
      "('moat', 50)\n",
      "('drugstore', 50)\n",
      "('hayfield', 50)\n",
      "('fastfood_restaurant', 50)\n",
      "('train_station', 50)\n",
      "('hotel', 50)\n",
      "('park', 50)\n",
      "('oilrig', 50)\n",
      "('observatory', 50)\n",
      "('iceberg', 50)\n",
      "('burial_chamber', 50)\n",
      "('shower', 50)\n",
      "('snowfield', 50)\n",
      "('clothing_store', 50)\n",
      "('residential_neighborhood', 50)\n",
      "('kasbah', 50)\n",
      "('manufactured_home', 50)\n",
      "('kindergarden_classroom', 50)\n",
      "('palace', 50)\n",
      "('art_gallery', 50)\n",
      "('alley', 50)\n",
      "('banquet_hall', 50)\n",
      "('cavern', 50)\n",
      "('ice_shelf', 50)\n",
      "('mountain', 50)\n",
      "('escalator', 50)\n",
      "('ice_skating_rink', 100)\n",
      "('subway_interior', 50)\n",
      "('ski_lodge', 50)\n",
      "('bakery', 50)\n",
      "('fire_station', 50)\n",
      "('physics_laboratory', 50)\n",
      "('track', 50)\n",
      "('monastery', 50)\n",
      "('ticket_booth', 50)\n",
      "('picnic_area', 50)\n",
      "('outhouse', 50)\n",
      "('swamp', 50)\n",
      "('baseball_field', 50)\n",
      "('rice_paddy', 50)\n",
      "('veranda', 50)\n",
      "('hunting_lodge', 50)\n",
      "('greenhouse', 100)\n",
      "('bedroom', 50)\n",
      "('cabin', 50)\n",
      "('ruin', 50)\n",
      "('dinette', 100)\n",
      "('bridge', 50)\n",
      "('coast', 50)\n",
      "('boathouse', 50)\n",
      "('basement', 50)\n",
      "('crosswalk', 50)\n",
      "('bowling_alley', 50)\n",
      "('florist_shop', 50)\n",
      "('bar', 50)\n",
      "('computer_room', 50)\n",
      "('sea_cliff', 50)\n",
      "('raceway', 50)\n",
      "('excavation', 50)\n",
      "('driveway', 50)\n",
      "('barn', 50)\n",
      "('art_studio', 50)\n",
      "('closet', 50)\n",
      "('aqueduct', 50)\n",
      "('hot_tub', 50)\n",
      "('skyscraper', 50)\n",
      "('veterinarians_office', 50)\n",
      "('tent', 50)\n",
      "('underwater', 50)\n",
      "('amusement_arcade', 50)\n",
      "('supermarket', 50)\n",
      "('pagoda', 50)\n",
      "('gift_shop', 50)\n",
      "('aquarium', 50)\n",
      "('wine_cellar', 100)\n",
      "('butte', 50)\n",
      "('kitchen', 50)\n",
      "('courtyard', 50)\n",
      "('oast_house', 50)\n",
      "('firing_range', 50)\n",
      "('restaurant', 50)\n",
      "('doorway', 50)\n",
      "('server_room', 50)\n",
      "('mausoleum', 50)\n",
      "('wheat_field', 50)\n",
      "('barndoor', 50)\n",
      "('sky', 50)\n",
      "('jewelry_shop', 50)\n",
      "('canyon', 50)\n",
      "('covered_bridge', 50)\n",
      "('church', 100)\n",
      "('lighthouse', 50)\n",
      "('basketball_court', 50)\n",
      "('skatepark', 50)\n",
      "('botanical_garden', 50)\n",
      "('stadium', 100)\n",
      "('chalet', 50)\n",
      "('control_tower', 50)\n",
      "('tree_farm', 50)\n",
      "('bow_window', 100)\n",
      "('martial_arts_gym', 50)\n",
      "('wet_bar', 50)\n",
      "('airport_terminal', 50)\n",
      "('runway', 50)\n",
      "('boardwalk', 50)\n",
      "('garbage_dump', 50)\n",
      "('delicatessen', 50)\n",
      "('movie_theater', 50)\n",
      "('bus_interior', 50)\n",
      "('lift_bridge', 50)\n",
      "('fire_escape', 50)\n",
      "('synagogue', 100)\n",
      "('game_room', 50)\n",
      "('campus', 50)\n",
      "('art_school', 50)\n",
      "('corridor', 50)\n",
      "('engine_room', 50)\n",
      "('topiary_garden', 50)\n",
      "('windmill', 50)\n",
      "('sauna', 50)\n",
      "('waterfall', 150)\n",
      "('watering_hole', 50)\n",
      "('lobby', 50)\n",
      "('theater', 100)\n",
      "('badminton_court', 50)\n",
      "('building_facade', 50)\n",
      "('ocean', 50)\n",
      "('batters_box', 50)\n",
      "('bamboo_forest', 50)\n",
      "('ski_slope', 50)\n",
      "('airplane_cabin', 50)\n",
      "('elevator_shaft', 50)\n",
      "('beauty_salon', 50)\n",
      "('cemetery', 50)\n",
      "('lake', 50)\n",
      "('pharmacy', 50)\n",
      "('riding_arena', 50)\n",
      "('conference_room', 50)\n",
      "('assembly_line', 50)\n",
      "('apartment_building', 50)\n",
      "('anechoic_chamber', 50)\n",
      "('carrousel', 50)\n",
      "('garage', 50)\n",
      "('car_interior', 100)\n",
      "('power_plant', 50)\n",
      "('tower', 50)\n",
      "('dining_room', 50)\n",
      "('kennel', 100)\n",
      "('auditorium', 50)\n",
      "('shed', 50)\n",
      "('home_office', 50)\n",
      "('creek', 50)\n",
      "('rock_arch', 50)\n",
      "('village', 50)\n",
      "('library', 100)\n",
      "('pasture', 50)\n",
      "('railroad_track', 50)\n",
      "('food_court', 50)\n",
      "('temple', 100)\n",
      "('hot_spring', 50)\n",
      "('gas_station', 50)\n",
      "('bathroom', 50)\n",
      "('slum', 50)\n",
      "('bazaar', 100)\n",
      "('boxing_ring', 50)\n",
      "('stage', 50)\n",
      "('playroom', 50)\n",
      "('diner', 100)\n",
      "('kitchenette', 50)\n",
      "('plaza', 50)\n",
      "('office_building', 50)\n",
      "('sushi_bar', 50)\n",
      "('dentists_office', 50)\n",
      "('phone_booth', 50)\n",
      "('lido_deck', 50)\n",
      "('childs_room', 50)\n",
      "('cafeteria', 50)\n",
      "('cubicle', 50)\n",
      "('canal', 100)\n",
      "('general_store', 100)\n",
      "('museum', 50)\n",
      "('valley', 50)\n",
      "('promenade_deck', 50)\n",
      "('bookstore', 50)\n",
      "('hotel_room', 50)\n",
      "('oil_refinery', 50)\n",
      "('pavilion', 50)\n",
      "('hospital_room', 50)\n",
      "('youth_hostel', 50)\n",
      "('industrial_area', 50)\n",
      "('basilica', 50)\n",
      "('amphitheater', 50)\n",
      "('planetarium', 50)\n",
      "('inn', 50)\n",
      "('archive', 50)\n",
      "('balcony', 100)\n",
      "('ice_cream_parlor', 50)\n",
      "('videostore', 50)\n",
      "('field', 100)\n",
      "('parlor', 50)\n",
      "('warehouse', 50)\n",
      "('locker_room', 50)\n",
      "('putting_green', 50)\n",
      "('mountain_snowy', 50)\n",
      "('medina', 50)\n",
      "('podium', 100)\n",
      "('toyshop', 50)\n",
      "('parking_lot', 50)\n",
      "('desert', 100)\n",
      "('butchers_shop', 50)\n",
      "('cliff', 50)\n",
      "('dorm_room', 50)\n",
      "('landfill', 50)\n",
      "('reception', 50)\n",
      "('laundromat', 50)\n",
      "('motel', 50)\n",
      "('igloo', 50)\n"
     ]
    }
   ],
   "source": [
    "with open('categories.txt','r') as open_file:\n",
    "    line = open_file.readline()\n",
    "    dict_category ={}\n",
    "    while line:\n",
    "        l = line.split('/')[2]\n",
    "        if l in dict_category.keys():\n",
    "            dict_category[l] += 1\n",
    "        else:\n",
    "            dict_category[l] = 1\n",
    "        line = open_file.readline() \n",
    "    for i in dict_category.iteritems():\n",
    "        print i"
   ]
  },
  {
   "cell_type": "code",
   "execution_count": 27,
   "metadata": {
    "collapsed": false
   },
   "outputs": [
    {
     "name": "stdout",
     "output_type": "stream",
     "text": [
      "[7, 13, 19, 23, 31, 79, 97, 103, 109, 139, 167, 193, 239, 263, 293, 313, 331, 367, 379, 383, 397, 409, 487, 563, 617, 653, 673, 683, 709, 739, 761, 863, 881, 907, 937]\n"
     ]
    }
   ],
   "source": [
    "\n",
    "with open('prime_numbers.txt') as open_file:\n",
    "    line = open_file.readline()\n",
    "    prime_list = []\n",
    "    while line:\n",
    "        prime_list.append(int(line.strip()))\n",
    "        line = open_file.readline()\n",
    "with open('happy_numbers.txt') as open_file:\n",
    "    line = open_file.readline()\n",
    "    happy_list = []\n",
    "    while line:\n",
    "        happy_list.append(int(line.strip()))\n",
    "        line = open_file.readline()\n",
    "    \n",
    "overlap = []\n",
    "\n",
    "for i in prime_list:\n",
    "    if i in happy_list:\n",
    "        overlap.append(i)\n",
    "\n",
    "print overlap"
   ]
  },
  {
   "cell_type": "code",
   "execution_count": 28,
   "metadata": {
    "collapsed": false
   },
   "outputs": [
    {
     "name": "stdout",
     "output_type": "stream",
     "text": [
      "[6, 7, 8, 9, 10, 11, 12, 13, 14, 15, 16, 17, 18, 19]\n"
     ]
    }
   ],
   "source": [
    "print range(6,20)"
   ]
  },
  {
   "cell_type": "code",
   "execution_count": 31,
   "metadata": {
    "collapsed": false
   },
   "outputs": [
    {
     "data": {
      "text/plain": [
       "1"
      ]
     },
     "execution_count": 31,
     "metadata": {},
     "output_type": "execute_result"
    }
   ],
   "source": [
    "int(4.0/3)"
   ]
  },
  {
   "cell_type": "code",
   "execution_count": 32,
   "metadata": {
    "collapsed": false
   },
   "outputs": [
    {
     "data": {
      "text/plain": [
       "[0, 1, 2, 3, 4]"
      ]
     },
     "execution_count": 32,
     "metadata": {},
     "output_type": "execute_result"
    }
   ],
   "source": [
    "range(5)"
   ]
  },
  {
   "cell_type": "code",
   "execution_count": null,
   "metadata": {
    "collapsed": true
   },
   "outputs": [],
   "source": []
  }
 ],
 "metadata": {
  "anaconda-cloud": {},
  "kernelspec": {
   "display_name": "Python [Root]",
   "language": "python",
   "name": "Python [Root]"
  },
  "language_info": {
   "codemirror_mode": {
    "name": "ipython",
    "version": 2
   },
   "file_extension": ".py",
   "mimetype": "text/x-python",
   "name": "python",
   "nbconvert_exporter": "python",
   "pygments_lexer": "ipython2",
   "version": "2.7.12"
  }
 },
 "nbformat": 4,
 "nbformat_minor": 0
}
